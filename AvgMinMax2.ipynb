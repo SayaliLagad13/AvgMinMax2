{
 "cells": [
  {
   "cell_type": "code",
   "execution_count": null,
   "id": "9e047702",
   "metadata": {},
   "outputs": [],
   "source": [
    "\n",
    "\n",
    "def avg():\n",
    "    cnt=0\n",
    "    sum=0\n",
    "    for j in range(len(mark)):\n",
    "        if mark[j]== -1:\n",
    "            cnt+=1\n",
    "    for i in range(len(mark)):\n",
    "        if(mark[i]!=-1):\n",
    "            sum+=mark[i]\n",
    "    print(\"average of marks is:\",sum/(len(mark)-cnt))\n",
    "\n",
    "def min():\n",
    "    min=mark[0]\n",
    "    for k in mark:\n",
    "        if(k!= -1 and k<min):\n",
    "            min=k\n",
    "    print(\"minimum mark is:\",min)\n",
    "\n",
    "def max():\n",
    "    max=mark[0]\n",
    "    for j in mark:\n",
    "        if(j!= -1 and j>max):\n",
    "            max=j\n",
    "    print(\"maximum mark is:\",max)\n",
    "\n",
    "def abs():\n",
    "    abscnt=0\n",
    "    for i in mark:\n",
    "        if i== -1:\n",
    "            abscnt+=1\n",
    "    print(\"absent count is:\",abscnt)\n",
    "\n",
    "def freq():\n",
    "    i=0\n",
    "    max=0\n",
    "    num=mark[0]\n",
    "    for i in mark:\n",
    "        cur_fre=mark.count(i)\n",
    "        if cur_fre>max:\n",
    "            max=cur_fre\n",
    "            num=i\n",
    "            print(num,max)    \n",
    "\n",
    "mark=[]\n",
    "n=int(input(\"enter how many students :\"))\n",
    "print(\"\\n enter marks and -1 for absent student:\")\n",
    "for i in range(0,n):\n",
    "    ele=int(input(\"\"))\n",
    "    mark.append(ele)\n",
    "avg()\n",
    "min()\n",
    "max()\n",
    "abs()\n",
    "freq()\n"
   ]
  },
  {
   "cell_type": "code",
   "execution_count": null,
   "id": "faef48c8",
   "metadata": {},
   "outputs": [],
   "source": []
  }
 ],
 "metadata": {
  "kernelspec": {
   "display_name": "Python 3 (ipykernel)",
   "language": "python",
   "name": "python3"
  },
  "language_info": {
   "codemirror_mode": {
    "name": "ipython",
    "version": 3
   },
   "file_extension": ".py",
   "mimetype": "text/x-python",
   "name": "python",
   "nbconvert_exporter": "python",
   "pygments_lexer": "ipython3",
   "version": "3.9.13"
  }
 },
 "nbformat": 4,
 "nbformat_minor": 5
}
